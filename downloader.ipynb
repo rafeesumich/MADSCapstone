{
 "cells": [
  {
   "cell_type": "code",
   "execution_count": null,
   "metadata": {},
   "outputs": [],
   "source": [
    "import pandas as pd\n",
    "import numpy as np\n",
    "import math\n",
    "import re\n",
    "\n",
    "import folium\n",
    "#import wget\n",
    "\n",
    "from sklearn import metrics\n",
    "\n",
    "import matplotlib.pyplot as plt\n",
    "from pandas.plotting import scatter_matrix\n",
    "\n",
    "import threading\n",
    "threading.activeCount()\n",
    "\n",
    "\n",
    "from sklearn.preprocessing import LabelEncoder\n",
    "from sklearn.preprocessing import MinMaxScaler\n",
    "from sklearn.decomposition import PCA\n",
    "\n",
    "# creating instance of labelencoder\n",
    "labelencoder = LabelEncoder()\n",
    "# creating instance of minmaxscaler\n",
    "scaler = MinMaxScaler()\n",
    "\n",
    "from matplotlib import pyplot as plt \n",
    "import seaborn as sns\n",
    "\n",
    "import urllib\n",
    "from datetime import datetime\n",
    "from IPython.core.display import display, HTML\n",
    "display(HTML(\"<style>.container { width:85% !important; }</style>\"))"
   ]
  },
  {
   "cell_type": "code",
   "execution_count": null,
   "metadata": {},
   "outputs": [],
   "source": [
    "import ssl\n",
    "#ssl._create_default_https_context = ssl._create_unverified_context\n",
    "scontext = ssl.SSLContext(ssl.PROTOCOL_TLS)\n",
    "scontext.verify_mode = ssl.VerifyMode.CERT_NONE"
   ]
  },
  {
   "cell_type": "code",
   "execution_count": null,
   "metadata": {},
   "outputs": [],
   "source": [
    "#df_vehicle=pd.read_parquet('') \n",
    "df_vehicle=pd.read_csv('cars_us_used_10k_sample.csv')\n",
    "df_vehicle.sample(5)"
   ]
  },
  {
   "cell_type": "code",
   "execution_count": null,
   "metadata": {},
   "outputs": [],
   "source": [
    "df_vehicle['year'] = df_vehicle.year.astype('int')\n",
    "df_vehicle = df_vehicle.loc[df_vehicle.year>=2002]"
   ]
  },
  {
   "cell_type": "code",
   "execution_count": null,
   "metadata": {},
   "outputs": [],
   "source": [
    "def getStr(inVal):\n",
    "    if inVal is None:\n",
    "        return ''\n",
    "    else:\n",
    "        return str(inVal)\n",
    "    \n",
    "def getInt(inVal):\n",
    "    if inVal is None:\n",
    "        return ''\n",
    "    elif isinstance(inVal,str):\n",
    "        return ''\n",
    "    else:\n",
    "        return int(inVal)\n",
    "\n",
    "def getVehicleImgs(row, errorLogFile):\n",
    "    #print(row)\n",
    "    ImgLinks = row.photo_links\n",
    "    id = row.id\n",
    "    vin = row.vin\n",
    "    model=row.model\n",
    "    make=row.make\n",
    "    year = row.year\n",
    "    target_folder_path='all_images' #\n",
    "    \n",
    "  \n",
    "    BaseFileName=target_folder_path+id+'_'+getStr(vin)+'_'+getStr(make)+'_'+getStr(model)+'_'+str(getInt(year))+'_'\n",
    "    \n",
    "    ImgLinkList=''\n",
    "    \n",
    "    try:\n",
    "        ImgLinkList = ImgLinks.split('|')\n",
    "    except:\n",
    "        errorLogFile.write('\\nBad or no photo links at row :'+ id)\n",
    "        return\n",
    "    \n",
    "    for i in range(len(ImgLinkList)):\n",
    "        targetFileName=BaseFileName+str(i)+'.jpg'\n",
    "        try:\n",
    "            with urllib.request.urlopen(url = ImgLinkList[i].strip(), context=scontext) as f:\n",
    "                with open(targetFileName,'wb') as nf:\n",
    "                    nf.write(f.read())\n",
    "        except:\n",
    "            errorLogFile.write(\"\\nCounln't download :\"+ImgLinkList[i])    \n",
    "    \n"
   ]
  },
  {
   "cell_type": "code",
   "execution_count": null,
   "metadata": {},
   "outputs": [],
   "source": [
    "def downloadPhotos(inDF):\n",
    "    errorLogFile=open('ErrorLogfile.log','a') \n",
    "    errorLogFile.write('Processing started at :'+str(datetime.now()))\n",
    "    \n",
    "    for index, row in inDF.iterrows():\n",
    "        if index%100==0:\n",
    "            print('Prcessed:',int(index), ' rows ', datetime.now())\n",
    "        try:\n",
    "            getVehicleImgs(row, errorLogFile)\n",
    "        except:\n",
    "            print('Exception while processing row :', index)\n",
    "    print('Finished Processing at :', datetime.now())\n",
    "    errorLogFile.write('\\nProcessing finished at :'+str(datetime.now()))\n",
    "    errorLogFile.close()"
   ]
  },
  {
   "cell_type": "code",
   "execution_count": null,
   "metadata": {},
   "outputs": [],
   "source": [
    "downloadPhotos(df_vehicle.iloc[:])"
   ]
  },
  {
   "cell_type": "code",
   "execution_count": null,
   "metadata": {},
   "outputs": [],
   "source": []
  }
 ],
 "metadata": {
  "kernelspec": {
   "display_name": "Python 3",
   "language": "python",
   "name": "python3"
  },
  "language_info": {
   "codemirror_mode": {
    "name": "ipython",
    "version": 3
   },
   "file_extension": ".py",
   "mimetype": "text/x-python",
   "name": "python",
   "nbconvert_exporter": "python",
   "pygments_lexer": "ipython3",
   "version": "3.7.4"
  }
 },
 "nbformat": 4,
 "nbformat_minor": 2
}
