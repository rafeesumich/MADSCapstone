{
 "cells": [
  {
   "cell_type": "markdown",
   "id": "9a8d43fc",
   "metadata": {},
   "source": [
    "# Regression Models"
   ]
  },
  {
   "cell_type": "code",
   "execution_count": 1,
   "id": "fe6b1ef1",
   "metadata": {},
   "outputs": [],
   "source": [
    "import warnings\n",
    "warnings.filterwarnings('ignore')\n",
    "\n",
    "#import project specific user defined utility functions\n",
    "import VehicleUtilityFunctions as vuf"
   ]
  },
  {
   "cell_type": "code",
   "execution_count": 2,
   "id": "8cbd5321",
   "metadata": {},
   "outputs": [
    {
     "data": {
      "text/html": [
       "<div>\n",
       "<style scoped>\n",
       "    .dataframe tbody tr th:only-of-type {\n",
       "        vertical-align: middle;\n",
       "    }\n",
       "\n",
       "    .dataframe tbody tr th {\n",
       "        vertical-align: top;\n",
       "    }\n",
       "\n",
       "    .dataframe thead th {\n",
       "        text-align: right;\n",
       "    }\n",
       "</style>\n",
       "<table border=\"1\" class=\"dataframe\">\n",
       "  <thead>\n",
       "    <tr style=\"text-align: right;\">\n",
       "      <th></th>\n",
       "      <th>miles</th>\n",
       "      <th>year</th>\n",
       "      <th>make</th>\n",
       "      <th>model</th>\n",
       "      <th>trim</th>\n",
       "      <th>vehicle_type</th>\n",
       "      <th>body_type</th>\n",
       "      <th>drivetrain</th>\n",
       "      <th>fuel_type</th>\n",
       "      <th>engine_block</th>\n",
       "      <th>...</th>\n",
       "      <th>doors</th>\n",
       "      <th>cylinders</th>\n",
       "      <th>city_mpg</th>\n",
       "      <th>highway_mpg</th>\n",
       "      <th>base_exterior_color</th>\n",
       "      <th>base_interior_color</th>\n",
       "      <th>is_certified</th>\n",
       "      <th>state</th>\n",
       "      <th>carfax_1_owner</th>\n",
       "      <th>carfax_clean_title</th>\n",
       "    </tr>\n",
       "  </thead>\n",
       "  <tbody>\n",
       "    <tr>\n",
       "      <th>0</th>\n",
       "      <td>100000</td>\n",
       "      <td>2012</td>\n",
       "      <td>Toyota</td>\n",
       "      <td>Corolla</td>\n",
       "      <td>LE</td>\n",
       "      <td>Car</td>\n",
       "      <td>Sedan</td>\n",
       "      <td>FWD</td>\n",
       "      <td>Unleaded</td>\n",
       "      <td>I</td>\n",
       "      <td>...</td>\n",
       "      <td>4.0</td>\n",
       "      <td>4.0</td>\n",
       "      <td>28.0</td>\n",
       "      <td>36.0</td>\n",
       "      <td>Silver</td>\n",
       "      <td>Gray</td>\n",
       "      <td>0</td>\n",
       "      <td>FL</td>\n",
       "      <td>0</td>\n",
       "      <td>0</td>\n",
       "    </tr>\n",
       "  </tbody>\n",
       "</table>\n",
       "<p>1 rows × 22 columns</p>\n",
       "</div>"
      ],
      "text/plain": [
       "    miles  year    make    model trim vehicle_type body_type drivetrain  \\\n",
       "0  100000  2012  Toyota  Corolla   LE          Car     Sedan        FWD   \n",
       "\n",
       "  fuel_type engine_block  ...  doors cylinders  city_mpg  highway_mpg  \\\n",
       "0  Unleaded            I  ...    4.0       4.0      28.0         36.0   \n",
       "\n",
       "   base_exterior_color  base_interior_color is_certified state  \\\n",
       "0               Silver                 Gray            0    FL   \n",
       "\n",
       "   carfax_1_owner carfax_clean_title  \n",
       "0               0                  0  \n",
       "\n",
       "[1 rows x 22 columns]"
      ]
     },
     "execution_count": 2,
     "metadata": {},
     "output_type": "execute_result"
    }
   ],
   "source": [
    "#Build a single vehile record for testing the model with all the data\n",
    "single_predict= {'miles': 100000,\n",
    "  'year': 2012,\n",
    "  'make': 'Toyota',\n",
    "  'model': 'Corolla',\n",
    "  'trim': 'LE',\n",
    "  'vehicle_type': 'Car',\n",
    "  'body_type': 'Sedan',\n",
    "  'drivetrain': 'FWD',\n",
    "  'fuel_type': 'Unleaded',\n",
    "  'engine_block': 'I',\n",
    "  'engine_size': 1.8,\n",
    "  'transmission': 'Automatic',\n",
    "  'doors': 4.0,\n",
    "  'cylinders': 4.0,\n",
    "  'city_mpg': 28.0,\n",
    "  'highway_mpg': 36.0,\n",
    "  'base_exterior_color': 'Silver',\n",
    "  'base_interior_color': 'Gray',\n",
    "  'is_certified': 0,\n",
    "  'state': 'FL',\n",
    "  'carfax_1_owner': 0,\n",
    "  'carfax_clean_title': 0}\n",
    "\n",
    "#Turn the dictionary into a dataframe\n",
    "single_predict_df = vuf.imputeX(single_predict)\n",
    "single_predict_df"
   ]
  },
  {
   "cell_type": "code",
   "execution_count": 3,
   "id": "5894ee20",
   "metadata": {},
   "outputs": [
    {
     "data": {
      "text/html": [
       "<div>\n",
       "<style scoped>\n",
       "    .dataframe tbody tr th:only-of-type {\n",
       "        vertical-align: middle;\n",
       "    }\n",
       "\n",
       "    .dataframe tbody tr th {\n",
       "        vertical-align: top;\n",
       "    }\n",
       "\n",
       "    .dataframe thead th {\n",
       "        text-align: right;\n",
       "    }\n",
       "</style>\n",
       "<table border=\"1\" class=\"dataframe\">\n",
       "  <thead>\n",
       "    <tr style=\"text-align: right;\">\n",
       "      <th></th>\n",
       "      <th>miles</th>\n",
       "      <th>year</th>\n",
       "      <th>make</th>\n",
       "      <th>model</th>\n",
       "      <th>trim</th>\n",
       "      <th>vehicle_type</th>\n",
       "      <th>body_type</th>\n",
       "      <th>drivetrain</th>\n",
       "      <th>fuel_type</th>\n",
       "      <th>engine_block</th>\n",
       "      <th>...</th>\n",
       "      <th>doors</th>\n",
       "      <th>cylinders</th>\n",
       "      <th>city_mpg</th>\n",
       "      <th>highway_mpg</th>\n",
       "      <th>base_exterior_color</th>\n",
       "      <th>base_interior_color</th>\n",
       "      <th>is_certified</th>\n",
       "      <th>state</th>\n",
       "      <th>carfax_1_owner</th>\n",
       "      <th>carfax_clean_title</th>\n",
       "    </tr>\n",
       "  </thead>\n",
       "  <tbody>\n",
       "    <tr>\n",
       "      <th>0</th>\n",
       "      <td>100000</td>\n",
       "      <td>2012</td>\n",
       "      <td>Toyota</td>\n",
       "      <td>Corolla</td>\n",
       "      <td>LE</td>\n",
       "      <td>-1</td>\n",
       "      <td>-1</td>\n",
       "      <td>-1</td>\n",
       "      <td>Unleaded</td>\n",
       "      <td>-1</td>\n",
       "      <td>...</td>\n",
       "      <td>4</td>\n",
       "      <td>4</td>\n",
       "      <td>28</td>\n",
       "      <td>36</td>\n",
       "      <td>-1</td>\n",
       "      <td>-1</td>\n",
       "      <td>0</td>\n",
       "      <td>-1</td>\n",
       "      <td>0</td>\n",
       "      <td>0</td>\n",
       "    </tr>\n",
       "  </tbody>\n",
       "</table>\n",
       "<p>1 rows × 22 columns</p>\n",
       "</div>"
      ],
      "text/plain": [
       "    miles  year    make    model trim vehicle_type body_type drivetrain  \\\n",
       "0  100000  2012  Toyota  Corolla   LE           -1        -1         -1   \n",
       "\n",
       "  fuel_type engine_block  ...  doors cylinders  city_mpg  highway_mpg  \\\n",
       "0  Unleaded           -1  ...      4         4        28           36   \n",
       "\n",
       "   base_exterior_color  base_interior_color is_certified state  \\\n",
       "0                   -1                   -1            0    -1   \n",
       "\n",
       "   carfax_1_owner carfax_clean_title  \n",
       "0               0                  0  \n",
       "\n",
       "[1 rows x 22 columns]"
      ]
     },
     "execution_count": 3,
     "metadata": {},
     "output_type": "execute_result"
    }
   ],
   "source": [
    "#Test the model with partial data, fill the missing details with '-1'\n",
    "single_predict_partial_data= {'make':'Toyota',\n",
    "'model':'Corolla',\n",
    "'miles':100000,\n",
    "'year':2012,\n",
    "'trim':'LE',\n",
    "'base_exterior_color':-1, \n",
    "'base_interior_color':-1,\n",
    "'vehicle_type':-1, \n",
    "'body_type':-1,\n",
    "'drivetrain':-1, \n",
    "'fuel_type':'Unleaded', \n",
    "'engine_block':-1, \n",
    "'engine_size':1.8,\n",
    "'transmission':-1, \n",
    "'doors':4, \n",
    "'cylinders':4, \n",
    "'city_mpg':28, \n",
    "'highway_mpg':36,\n",
    "'state':-1\n",
    "}\n",
    "single_predict_partial_data = vuf.imputeX(single_predict_partial_data)\n",
    "single_predict_partial_data"
   ]
  },
  {
   "cell_type": "markdown",
   "id": "3429d537",
   "metadata": {},
   "source": [
    "## Get vehicle value estimation from RandomForest"
   ]
  },
  {
   "cell_type": "code",
   "execution_count": 4,
   "id": "59c933ff",
   "metadata": {},
   "outputs": [
    {
     "data": {
      "text/plain": [
       "(13001.922693666178, (12552.84673001862, 13450.998657313736))"
      ]
     },
     "execution_count": 4,
     "metadata": {},
     "output_type": "execute_result"
    },
    {
     "data": {
      "image/png": "[encoded data removed]",
      "text/plain": [
       "<Figure size 720x360 with 1 Axes>"
      ]
     },
     "metadata": {
      "needs_background": "light"
     },
     "output_type": "display_data"
    }
   ],
   "source": [
    "#The utility file has the method that call the model prediction\n",
    "vuf.estimateVehileValue(single_predict_df)"
   ]
  },
  {
   "cell_type": "code",
   "execution_count": 5,
   "id": "b84390a8",
   "metadata": {
    "scrolled": false
   },
   "outputs": [
    {
     "data": {
      "text/plain": [
       "(14622.696095238098, (12282.729989916876, 16962.662200559316))"
      ]
     },
     "execution_count": 5,
     "metadata": {},
     "output_type": "execute_result"
    },
    {
     "data": {
      "image/png": "[encoded data removed]",
      "text/plain": [
       "<Figure size 720x360 with 1 Axes>"
      ]
     },
     "metadata": {
      "needs_background": "light"
     },
     "output_type": "display_data"
    }
   ],
   "source": [
    "#The utility file has the method that call the model prediction\n",
    "vuf.estimateVehileValue(single_predict_partial_data)"
   ]
  },
  {
   "cell_type": "markdown",
   "id": "fa5fc630",
   "metadata": {},
   "source": [
    "```\n",
    "# with all values filled\n",
    "(19797.43846916645, (19735.943956108833, 19858.932982224072))\n",
    "with color\n",
    "(19797.43846916645, (19735.943956108833, 19858.932982224072))\n",
    "without color, filled with default values\n",
    "(19797.43846916645, (19735.943956108833, 19858.932982224072))\n",
    "#without default specs\n",
    "(26537.93841612829, (25259.103301522457, 27816.773530734103))\n",
    "```"
   ]
  }
 ],
 "metadata": {
  "kernelspec": {
   "display_name": "Python 3",
   "language": "python",
   "name": "python3"
  },
  "language_info": {
   "codemirror_mode": {
    "name": "ipython",
    "version": 3
   },
   "file_extension": ".py",
   "mimetype": "text/x-python",
   "name": "python",
   "nbconvert_exporter": "python",
   "pygments_lexer": "ipython3",
   "version": "3.9.12"
  }
 },
 "nbformat": 4,
 "nbformat_minor": 5
}
