{
 "cells": [
  {
   "cell_type": "markdown",
   "id": "9a8d43fc",
   "metadata": {},
   "source": [
    "# Regression Models"
   ]
  },
  {
   "cell_type": "code",
   "execution_count": 1,
   "id": "fe6b1ef1",
   "metadata": {},
   "outputs": [
    {
     "name": "stdout",
     "output_type": "stream",
     "text": [
      "Python implementation: CPython\n",
      "Python version       : 3.9.12\n",
      "IPython version      : 7.32.0\n",
      "\n",
      "pandas    : 1.4.2\n",
      "numpy     : 1.22.3+mkl\n",
      "scipy     : 1.8.0\n",
      "joblib    : 1.1.0\n",
      "xgboost   : 1.5.2\n",
      "seaborn   : 0.11.2\n",
      "matplotlib: 3.5.1\n",
      "warnings  : unknown\n",
      "\n",
      "Compiler    : MSC v.1929 64 bit (AMD64)\n",
      "OS          : Windows\n",
      "Release     : 10\n",
      "Machine     : AMD64\n",
      "Processor   : Intel64 Family 6 Model 62 Stepping 4, GenuineIntel\n",
      "CPU cores   : 32\n",
      "Architecture: 64bit\n",
      "\n"
     ]
    }
   ],
   "source": [
    "import pandas as pd\n",
    "import numpy as np\n",
    "import scipy.stats as st\n",
    "import joblib\n",
    "import warnings\n",
    "warnings.filterwarnings('ignore')\n",
    "import xgboost as xgb\n",
    "\n",
    "import seaborn as sns\n",
    "import matplotlib.pyplot as plt\n",
    "\n",
    "%load_ext watermark\n",
    "\n",
    "%watermark -v -m -p pandas,numpy,scipy,joblib,xgboost,seaborn,matplotlib,warnings"
   ]
  },
  {
   "cell_type": "code",
   "execution_count": 2,
   "id": "bb6df2c5",
   "metadata": {},
   "outputs": [],
   "source": [
    "# Load the RandomForest Model pipeline\n",
    "rf_pipe = joblib.load('oe_rf_depth15_660k.sav')"
   ]
  },
  {
   "cell_type": "code",
   "execution_count": 3,
   "id": "06e4676b",
   "metadata": {},
   "outputs": [],
   "source": [
    "X_cols=['miles', 'year', 'make', 'model', 'trim', 'vehicle_type', 'body_type',\n",
    "       'drivetrain', 'fuel_type', 'engine_block', 'engine_size',\n",
    "       'transmission', 'doors', 'cylinders', 'city_mpg', 'highway_mpg',\n",
    "       'base_exterior_color', 'base_interior_color', 'is_certified', 'state',\n",
    "       'carfax_1_owner', 'carfax_clean_title']"
   ]
  },
  {
   "cell_type": "code",
   "execution_count": 4,
   "id": "c4066f0c",
   "metadata": {},
   "outputs": [],
   "source": [
    "trim_lookup = pd.read_csv('trim_lookup.csv')\n",
    "# use this method in the frontend (UI interface) to get the default trim if use doesn't provide the trim information\n",
    "def getTrim(make, model):\n",
    "    trim = ''\n",
    "    try:\n",
    "        trim= trim_lookup[(trim_lookup.make==make) & (trim_lookup.model==model)]['trim'].values[0]\n",
    "    except:\n",
    "        trim = model\n",
    "    return trim\n",
    "\n",
    "\n",
    "vin_lookup_year_df = pd.read_csv('vin_lookup_year.csv')\n",
    "# Get the default vehicle specifications from based on Make, Model, Model Year and Trim.\n",
    "def getVehicleDetails(make, model,trim, year=None):\n",
    "    vehicleDetails={}\n",
    "    vehicleDetails_col=['vehicle_type', 'body_type', 'drivetrain',\n",
    "       'fuel_type', 'engine_block', 'engine_size', 'transmission', 'doors',\n",
    "       'cylinders', 'city_mpg', 'highway_mpg','base_exterior_color','base_interior_color','state']\n",
    "    \n",
    "   \n",
    "    if year is None:\n",
    "        vehicleDetails=vin_lookup_year_df[(vin_lookup_year_df.make==make) &\\\n",
    "                             (vin_lookup_year_df.model==model) &\\\n",
    "                             (vin_lookup_year_df.trim==trim)].groupby(vehicleDetails_col).size().reset_index().sort_values(0, ascending=False).drop(0,axis=1).head(1).to_dict('r')[0]\n",
    "        \n",
    "    else:\n",
    "        vehicleDetails=vin_lookup_year_df[(vin_lookup_year_df.year==year) &\\\n",
    "                           (vin_lookup_year_df.make==make) &\\\n",
    "                           (vin_lookup_year_df.model==model) &\\\n",
    "                           (vin_lookup_year_df.trim==trim)].groupby(vehicleDetails_col).size().reset_index().sort_values(0, ascending=False).drop(0,axis=1).head(1).to_dict('r')[0]\n",
    "    if len(vehicleDetails)>0:\n",
    "        return vehicleDetails\n",
    "    else:\n",
    "        return vin_lookup_NO_year_df.groupby(vehicleDetails_col).size().reset_index().sort_values(0, ascending=False).drop(0,axis=1).head(1).to_dict('r')[0]"
   ]
  },
  {
   "cell_type": "code",
   "execution_count": 5,
   "id": "e32c0559",
   "metadata": {},
   "outputs": [],
   "source": [
    "def imputeX(single_predict):\n",
    "    \n",
    "    \n",
    "    if not single_predict.get('trim'):\n",
    "        single_predict['trim']=getTrim(single_predict['make'],single_predict['model'])\n",
    "        \n",
    "    available_cols = list(single_predict.keys())\n",
    "    \n",
    "    default_values = getVehicleDetails(single_predict['make'],single_predict['model'], single_predict['trim'], single_predict['year'])\n",
    "    missing_cols = [x for x in X_cols if x not in available_cols]\n",
    "\n",
    "    for col in missing_cols:\n",
    "        single_predict[col]=default_values.get(col,0)\n",
    "\n",
    "    single_predict_df = pd.DataFrame(columns=single_predict.keys(), data = np.array(list(single_predict.values())).reshape(1, len(single_predict)))\n",
    "\n",
    "    single_predict_df.miles= pd.to_numeric(single_predict_df.miles, errors='coerce')\n",
    "    single_predict_df.year= pd.to_numeric(single_predict_df.year, errors='coerce')\n",
    "    single_predict_df.engine_size= pd.to_numeric(single_predict_df.engine_size, errors='coerce')\n",
    "    single_predict_df.doors= pd.to_numeric(single_predict_df.doors, errors='coerce')\n",
    "    single_predict_df.cylinders = pd.to_numeric(single_predict_df.cylinders, errors='coerce')\n",
    "    single_predict_df.city_mpg = pd.to_numeric(single_predict_df.city_mpg, errors='coerce')\n",
    "    single_predict_df.highway_mpg = pd.to_numeric(single_predict_df.highway_mpg, errors='coerce')\n",
    "    single_predict_df.is_certified = pd.to_numeric(single_predict_df.is_certified, errors='coerce')\n",
    "    single_predict_df.carfax_1_owner = pd.to_numeric(single_predict_df.carfax_1_owner, errors='coerce')\n",
    "    single_predict_df.carfax_clean_title= pd.to_numeric(single_predict_df.carfax_clean_title, errors='coerce')\n",
    "\n",
    "    single_predict_df = single_predict_df[X_cols]\n",
    "\n",
    "    return single_predict_df   "
   ]
  },
  {
   "cell_type": "code",
   "execution_count": 11,
   "id": "d2bedbc9",
   "metadata": {},
   "outputs": [],
   "source": [
    "def estimateVehileValue(X):\n",
    "    \n",
    "    estimated_value = rf_pipe.predict(X)\n",
    "    x_treanformed=rf_pipe['preprocessor'].transform(X)\n",
    "    rf_estimators = rf_pipe['estimator'].estimators_\n",
    "\n",
    "    preds=[]\n",
    "    for estimator in rf_estimators:\n",
    "        preds.append(estimator.predict(x_treanformed))\n",
    "        \n",
    "      \n",
    "    data = [x[0] for x in preds]\n",
    "    \n",
    "    fig, ax = plt.subplots(figsize=(10,5))\n",
    "    sns.histplot(data=data, kde=True, bins=25)\n",
    "    \n",
    "    # 95%, 2 sigma confidence interval(CI)\n",
    "    ci = st.t.interval(alpha=0.95, df=len(data)-1, loc=np.mean(data), scale=st.sem(data))\n",
    "    return (estimated_value[0], ci)"
   ]
  },
  {
   "cell_type": "code",
   "execution_count": 7,
   "id": "8cbd5321",
   "metadata": {},
   "outputs": [
    {
     "data": {
      "text/html": [
       "<div>\n",
       "<style scoped>\n",
       "    .dataframe tbody tr th:only-of-type {\n",
       "        vertical-align: middle;\n",
       "    }\n",
       "\n",
       "    .dataframe tbody tr th {\n",
       "        vertical-align: top;\n",
       "    }\n",
       "\n",
       "    .dataframe thead th {\n",
       "        text-align: right;\n",
       "    }\n",
       "</style>\n",
       "<table border=\"1\" class=\"dataframe\">\n",
       "  <thead>\n",
       "    <tr style=\"text-align: right;\">\n",
       "      <th></th>\n",
       "      <th>miles</th>\n",
       "      <th>year</th>\n",
       "      <th>make</th>\n",
       "      <th>model</th>\n",
       "      <th>trim</th>\n",
       "      <th>vehicle_type</th>\n",
       "      <th>body_type</th>\n",
       "      <th>drivetrain</th>\n",
       "      <th>fuel_type</th>\n",
       "      <th>engine_block</th>\n",
       "      <th>...</th>\n",
       "      <th>doors</th>\n",
       "      <th>cylinders</th>\n",
       "      <th>city_mpg</th>\n",
       "      <th>highway_mpg</th>\n",
       "      <th>base_exterior_color</th>\n",
       "      <th>base_interior_color</th>\n",
       "      <th>is_certified</th>\n",
       "      <th>state</th>\n",
       "      <th>carfax_1_owner</th>\n",
       "      <th>carfax_clean_title</th>\n",
       "    </tr>\n",
       "  </thead>\n",
       "  <tbody>\n",
       "    <tr>\n",
       "      <th>0</th>\n",
       "      <td>50000</td>\n",
       "      <td>2018</td>\n",
       "      <td>Toyota</td>\n",
       "      <td>Corolla</td>\n",
       "      <td>LE</td>\n",
       "      <td>Car</td>\n",
       "      <td>Sedan</td>\n",
       "      <td>FWD</td>\n",
       "      <td>Unleaded</td>\n",
       "      <td>I</td>\n",
       "      <td>...</td>\n",
       "      <td>4.0</td>\n",
       "      <td>4.0</td>\n",
       "      <td>28.0</td>\n",
       "      <td>36.0</td>\n",
       "      <td>Silver</td>\n",
       "      <td>Gray</td>\n",
       "      <td>0</td>\n",
       "      <td>FL</td>\n",
       "      <td>0</td>\n",
       "      <td>0</td>\n",
       "    </tr>\n",
       "  </tbody>\n",
       "</table>\n",
       "<p>1 rows × 22 columns</p>\n",
       "</div>"
      ],
      "text/plain": [
       "   miles  year    make    model trim vehicle_type body_type drivetrain  \\\n",
       "0  50000  2018  Toyota  Corolla   LE          Car     Sedan        FWD   \n",
       "\n",
       "  fuel_type engine_block  ...  doors cylinders  city_mpg  highway_mpg  \\\n",
       "0  Unleaded            I  ...    4.0       4.0      28.0         36.0   \n",
       "\n",
       "   base_exterior_color  base_interior_color is_certified state  \\\n",
       "0               Silver                 Gray            0    FL   \n",
       "\n",
       "   carfax_1_owner carfax_clean_title  \n",
       "0               0                  0  \n",
       "\n",
       "[1 rows x 22 columns]"
      ]
     },
     "execution_count": 7,
     "metadata": {},
     "output_type": "execute_result"
    }
   ],
   "source": [
    "single_predict= {'make':'Toyota',\n",
    "'model':'Corolla',\n",
    "'miles':50000,\n",
    "'year':2018,\n",
    "'base_exterior_color':'Silver', \n",
    "'base_interior_color':'Gray'\n",
    "}\n",
    "\n",
    "single_predict_df = imputeX(single_predict)\n",
    "single_predict_df"
   ]
  },
  {
   "cell_type": "code",
   "execution_count": 8,
   "id": "9ab6362d",
   "metadata": {},
   "outputs": [
    {
     "data": {
      "text/html": [
       "<div>\n",
       "<style scoped>\n",
       "    .dataframe tbody tr th:only-of-type {\n",
       "        vertical-align: middle;\n",
       "    }\n",
       "\n",
       "    .dataframe tbody tr th {\n",
       "        vertical-align: top;\n",
       "    }\n",
       "\n",
       "    .dataframe thead th {\n",
       "        text-align: right;\n",
       "    }\n",
       "</style>\n",
       "<table border=\"1\" class=\"dataframe\">\n",
       "  <thead>\n",
       "    <tr style=\"text-align: right;\">\n",
       "      <th></th>\n",
       "      <th>miles</th>\n",
       "      <th>year</th>\n",
       "      <th>make</th>\n",
       "      <th>model</th>\n",
       "      <th>trim</th>\n",
       "      <th>vehicle_type</th>\n",
       "      <th>body_type</th>\n",
       "      <th>drivetrain</th>\n",
       "      <th>fuel_type</th>\n",
       "      <th>engine_block</th>\n",
       "      <th>...</th>\n",
       "      <th>doors</th>\n",
       "      <th>cylinders</th>\n",
       "      <th>city_mpg</th>\n",
       "      <th>highway_mpg</th>\n",
       "      <th>base_exterior_color</th>\n",
       "      <th>base_interior_color</th>\n",
       "      <th>is_certified</th>\n",
       "      <th>state</th>\n",
       "      <th>carfax_1_owner</th>\n",
       "      <th>carfax_clean_title</th>\n",
       "    </tr>\n",
       "  </thead>\n",
       "  <tbody>\n",
       "    <tr>\n",
       "      <th>0</th>\n",
       "      <td>50000</td>\n",
       "      <td>2018</td>\n",
       "      <td>Toyota</td>\n",
       "      <td>Corolla</td>\n",
       "      <td>LE</td>\n",
       "      <td>-1</td>\n",
       "      <td>-1</td>\n",
       "      <td>-1</td>\n",
       "      <td>-1</td>\n",
       "      <td>-1</td>\n",
       "      <td>...</td>\n",
       "      <td>-1</td>\n",
       "      <td>-1</td>\n",
       "      <td>-1</td>\n",
       "      <td>-1</td>\n",
       "      <td>-1</td>\n",
       "      <td>-1</td>\n",
       "      <td>0</td>\n",
       "      <td>-1</td>\n",
       "      <td>0</td>\n",
       "      <td>0</td>\n",
       "    </tr>\n",
       "  </tbody>\n",
       "</table>\n",
       "<p>1 rows × 22 columns</p>\n",
       "</div>"
      ],
      "text/plain": [
       "   miles  year    make    model trim vehicle_type body_type drivetrain  \\\n",
       "0  50000  2018  Toyota  Corolla   LE           -1        -1         -1   \n",
       "\n",
       "  fuel_type engine_block  ...  doors cylinders  city_mpg  highway_mpg  \\\n",
       "0        -1           -1  ...     -1        -1        -1           -1   \n",
       "\n",
       "   base_exterior_color  base_interior_color is_certified state  \\\n",
       "0                   -1                   -1            0    -1   \n",
       "\n",
       "   carfax_1_owner carfax_clean_title  \n",
       "0               0                  0  \n",
       "\n",
       "[1 rows x 22 columns]"
      ]
     },
     "execution_count": 8,
     "metadata": {},
     "output_type": "execute_result"
    }
   ],
   "source": [
    "single_predict_partial_data= {'make':'Toyota',\n",
    "'model':'Corolla',\n",
    "'miles':50000,\n",
    "'year':2018,\n",
    "'base_exterior_color':-1, \n",
    "'base_interior_color':-1,\n",
    "        'vehicle_type':-1, \n",
    "                 'body_type':-1,\n",
    "       'drivetrain':-1, \n",
    "                 'fuel_type':-1, \n",
    "                 'engine_block':-1, \n",
    "                 'engine_size':-1,\n",
    "       'transmission':-1, \n",
    "                 'doors':-1, \n",
    "                 'cylinders':-1, \n",
    "                 'city_mpg':-1, \n",
    "                 'highway_mpg':-1,\n",
    "                 'state':-1\n",
    "}\n",
    "single_predict_partial_data = imputeX(single_predict_partial_data)\n",
    "single_predict_partial_data"
   ]
  },
  {
   "cell_type": "markdown",
   "id": "3429d537",
   "metadata": {},
   "source": [
    "## Get vehicle value estimation from RandomForest"
   ]
  },
  {
   "cell_type": "code",
   "execution_count": 12,
   "id": "6a26408c",
   "metadata": {},
   "outputs": [
    {
     "data": {
      "text/plain": [
       "(19964.853406112128, (19884.784737707796, 20044.922074516453))"
      ]
     },
     "execution_count": 12,
     "metadata": {},
     "output_type": "execute_result"
    },
    {
     "data": {
      "image/png": "[encoded data removed]",
      "text/plain": [
       "<Figure size 720x360 with 1 Axes>"
      ]
     },
     "metadata": {
      "needs_background": "light"
     },
     "output_type": "display_data"
    }
   ],
   "source": [
    "estimateVehileValue(single_predict_df)"
   ]
  },
  {
   "cell_type": "code",
   "execution_count": 13,
   "id": "6a9bef94",
   "metadata": {},
   "outputs": [
    {
     "data": {
      "text/plain": [
       "(28149.855099338092, (26971.548172029845, 29328.16202664634))"
      ]
     },
     "execution_count": 13,
     "metadata": {},
     "output_type": "execute_result"
    },
    {
     "data": {
      "image/png": "[encoded data removed]",
      "text/plain": [
       "<Figure size 720x360 with 1 Axes>"
      ]
     },
     "metadata": {
      "needs_background": "light"
     },
     "output_type": "display_data"
    }
   ],
   "source": [
    "estimateVehileValue(single_predict_partial_data)"
   ]
  },
  {
   "cell_type": "markdown",
   "id": "6d5c3f44",
   "metadata": {},
   "source": [
    "```\n",
    "# with all values filled\n",
    "(19797.43846916645, (19735.943956108833, 19858.932982224072))\n",
    "with color\n",
    "(19797.43846916645, (19735.943956108833, 19858.932982224072))\n",
    "without color, filled with default values\n",
    "(19797.43846916645, (19735.943956108833, 19858.932982224072))\n",
    "#without default specs\n",
    "(26537.93841612829, (25259.103301522457, 27816.773530734103))\n",
    "```"
   ]
  },
  {
   "cell_type": "code",
   "execution_count": null,
   "id": "d7be234a",
   "metadata": {},
   "outputs": [],
   "source": []
  }
 ],
 "metadata": {
  "kernelspec": {
   "display_name": "Python 3",
   "language": "python",
   "name": "python3"
  },
  "language_info": {
   "codemirror_mode": {
    "name": "ipython",
    "version": 3
   },
   "file_extension": ".py",
   "mimetype": "text/x-python",
   "name": "python",
   "nbconvert_exporter": "python",
   "pygments_lexer": "ipython3",
   "version": "3.9.12"
  }
 },
 "nbformat": 4,
 "nbformat_minor": 5
}
