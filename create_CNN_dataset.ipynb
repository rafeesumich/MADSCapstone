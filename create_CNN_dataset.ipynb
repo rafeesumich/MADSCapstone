{
 "cells": [
  {
   "cell_type": "code",
   "execution_count": null,
   "metadata": {},
   "outputs": [],
   "source": [
    "from IPython.core.display import display, HTML\n",
    "display(HTML(\"<style>.container { width:85% !important; }</style>\"))"
   ]
  },
  {
   "cell_type": "code",
   "execution_count": null,
   "metadata": {},
   "outputs": [],
   "source": [
    "import pandas as pd\n",
    "from os import listdir\n",
    "from os.path import isfile, join\n",
    "import os\n",
    "import shutil\n",
    "import numpy as np"
   ]
  },
  {
   "cell_type": "code",
   "execution_count": null,
   "metadata": {},
   "outputs": [],
   "source": [
    "#df = pd.read_parquet('') \n",
    "#df = pd.read_csv('') "
   ]
  },
  {
   "cell_type": "code",
   "execution_count": null,
   "metadata": {},
   "outputs": [],
   "source": [
    "df.columns"
   ]
  },
  {
   "cell_type": "code",
   "execution_count": null,
   "metadata": {},
   "outputs": [],
   "source": [
    "ext_folder = 'exterior/' # Directory of all acceptable images \n",
    "exterior_images = [f for f in listdir(ext_folder) if isfile(join(ext_folder, f))] # All file names in ext_folder"
   ]
  },
  {
   "cell_type": "code",
   "execution_count": null,
   "metadata": {},
   "outputs": [],
   "source": []
  },
  {
   "cell_type": "markdown",
   "metadata": {},
   "source": [
    "# Create Make Folders"
   ]
  },
  {
   "cell_type": "code",
   "execution_count": null,
   "metadata": {},
   "outputs": [],
   "source": [
    "all_makes = list(set(df['make'].dropna())) # List of all unique makes\n",
    "make_df = df[['id','make']] \n",
    "\n",
    "# Iterate over all makes and create a new directory for each one\n",
    "for make in all_makes:\n",
    "    path = 'cars_by_make/'+ make\n",
    "    os.mkdir(path)\n",
    "    "
   ]
  },
  {
   "cell_type": "code",
   "execution_count": null,
   "metadata": {},
   "outputs": [],
   "source": [
    "makes_folder = 'cars_by_make/'\n",
    "i=0\n",
    "\n",
    "# Iterate over all acceptable images and put the image in its corresponding directory\n",
    "for image in exterior_images:\n",
    "    # Gets id from image file name and uses it along with the dataframe to determine which make the vehicle in the image is \n",
    "    try:\n",
    "        image_path = ext_folder+image\n",
    "        vehicle_id = image.split('_')[0]\n",
    "        make_of_car = list(make_df[make_df['id'] == vehicle_id]['make'])[0]\n",
    "        if make_of_car == None:\n",
    "            continue\n",
    "        make_folder = makes_folder+make_of_car+'/'\n",
    "        # If storage is a limitation you may have to move the images, train the model, and move them back if not use copy\n",
    "        #shutil.move(image_path, make_folder) \n",
    "        #shutil.copy(image_path, make_folder) \n",
    "    except:\n",
    "        print(image) \n",
    "    i+=1\n",
    "    if i % 10000 == 0 :\n",
    "        print(i) # Shows progress"
   ]
  },
  {
   "cell_type": "code",
   "execution_count": null,
   "metadata": {},
   "outputs": [],
   "source": []
  },
  {
   "cell_type": "markdown",
   "metadata": {},
   "source": [
    "# Create Color Folders"
   ]
  },
  {
   "cell_type": "code",
   "execution_count": null,
   "metadata": {},
   "outputs": [],
   "source": [
    "all_colors = list(set(df['base_exterior_color'].dropna())) # List of all unique colors\n",
    "color_df = df[['id','base_exterior_color']]\n",
    "\n",
    "# Iterate over all colors and create a new directory for each one\n",
    "for color in all_colors:\n",
    "    path = 'E:/color_training_data/'+ color\n",
    "    os.mkdir(path)"
   ]
  },
  {
   "cell_type": "code",
   "execution_count": null,
   "metadata": {},
   "outputs": [],
   "source": [
    "colors_folder = 'E:/color_training_data/'\n",
    "i=0\n",
    "\n",
    "# Iterate over all acceptable images and put the image in its corresponding directory\n",
    "for image in exterior_images:\n",
    "    # Gets id from image file name and uses it along with the dataframe to determine which color the vehicle in the image is \n",
    "    image_path = ext_folder+image\n",
    "    vehicle_id = image.split('_')[0]\n",
    "    color_of_car = list(color_df[color_df['id'] == vehicle_id]['base_exterior_color'])[0]\n",
    "    if color_of_car == None:\n",
    "        continue\n",
    "    color_folder = colors_folder+color_of_car+'/'\n",
    "    # If storage is a limitation you may have to move the images, train the model, and move them back if not use copy\n",
    "    #shutil.move(image_path,color_folder)\n",
    "    #shutil.copy(image_path, color_folder)\n",
    "    i+=1\n",
    "    if i % 10000 == 0 :\n",
    "        print(i)  # Shows progress"
   ]
  },
  {
   "cell_type": "code",
   "execution_count": null,
   "metadata": {},
   "outputs": [],
   "source": []
  },
  {
   "cell_type": "markdown",
   "metadata": {},
   "source": [
    "# Create Body Folders"
   ]
  },
  {
   "cell_type": "code",
   "execution_count": null,
   "metadata": {},
   "outputs": [],
   "source": [
    "# Dictionary used to remap body types to match the data used in the final model\n",
    "body_type_mapping = {'SUV':'SUV', 'Sedan':'Sedan', 'Pickup':'Pickup', 'Hatchback':'Hatchback', 'Coupe':'Coupe', \\\n",
    "                     'Crossover':'Crossover', 'Minivan':'Minivan',\\\n",
    "       'Convertible':'Convertible', 'Cargo Van':'Cargo Van', 'Wagon':'Wagon', \\\n",
    "    'Roadster':'Roadster', 'Passenger Van':'Minivan',\\\n",
    "       'Chassis Cab':'Cargo Van', 'Mini Mpv':'Minivan', 'Targa':'Convertible', 'Car Van':'Minivan', 'Cutaway':'Cargo Van', \\\n",
    "                     'Combi':'Minivan', 'Micro Car':'Coupe', 'Van':'Minivan', 'Commercial Wagon':'Wagon'}\n",
    "\n",
    "def normalizeBodyType(row):\n",
    "    inbodytype=row\n",
    "    if inbodytype is None:\n",
    "        return np.NaN\n",
    "    else:\n",
    "        return body_type_mapping.get(inbodytype,np.NaN)"
   ]
  },
  {
   "cell_type": "code",
   "execution_count": null,
   "metadata": {},
   "outputs": [],
   "source": [
    "body_df = df[['id','body_type']]\n",
    "body_df['updated_body_type'] = body_df['body_type'].apply(normalizeBodyType)"
   ]
  },
  {
   "cell_type": "code",
   "execution_count": null,
   "metadata": {},
   "outputs": [],
   "source": [
    "all_bodies = list(set(partial_df['updated_body_type'].dropna())) # List of all unique body types\n",
    "\n",
    "# Iterate over all body types and create a new directory for each one\n",
    "for body in all_bodies:\n",
    "    path = 'E:/color_classification/cars_by_body/'+ body\n",
    "    os.mkdir(path)"
   ]
  },
  {
   "cell_type": "code",
   "execution_count": null,
   "metadata": {},
   "outputs": [],
   "source": [
    "bodies_folder = 'E:/color_classification/cars_by_body/'\n",
    "i=0\n",
    "\n",
    "# Iterate over all acceptable images and put the image in its corresponding directory\n",
    "for image in exterior_images:\n",
    "    # Gets id from image file name and uses it along with the dataframe to determine which color the vehicle in the image is \n",
    "    try:\n",
    "        image_path = ext_folder+image\n",
    "        vehicle_id = image.split('_')[0]\n",
    "        body_of_car = list(body_df[body_df['id'] == vehicle_id]['updated_body_type'])[0]\n",
    "        if body_of_car == None:\n",
    "            continue\n",
    "        body_folder = bodies_folder+body_of_car+'/'\n",
    "        # If storage is a limitation you may have to move the images, train the model, and move them back if not use copy\n",
    "        #shutil.move(image_path,color_folder)\n",
    "        #shutil.copy(image_path, body_folder)\n",
    "    except:\n",
    "        print(image)\n",
    "    i+=1\n",
    "    if i % 2000 == 0 :\n",
    "        print(i)  # Shows progress"
   ]
  },
  {
   "cell_type": "code",
   "execution_count": null,
   "metadata": {},
   "outputs": [],
   "source": []
  },
  {
   "cell_type": "code",
   "execution_count": null,
   "metadata": {},
   "outputs": [],
   "source": []
  },
  {
   "cell_type": "code",
   "execution_count": null,
   "metadata": {},
   "outputs": [],
   "source": []
  }
 ],
 "metadata": {
  "kernelspec": {
   "display_name": "Python 3",
   "language": "python",
   "name": "python3"
  },
  "language_info": {
   "codemirror_mode": {
    "name": "ipython",
    "version": 3
   },
   "file_extension": ".py",
   "mimetype": "text/x-python",
   "name": "python",
   "nbconvert_exporter": "python",
   "pygments_lexer": "ipython3",
   "version": "3.7.4"
  }
 },
 "nbformat": 4,
 "nbformat_minor": 2
}
